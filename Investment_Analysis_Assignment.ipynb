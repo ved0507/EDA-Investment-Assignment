{
 "cells": [
  {
   "cell_type": "markdown",
   "metadata": {},
   "source": [
    "### CheckPoint  1  - Data cleaning\n",
    "##### Submitted by Vedavyas Burli\n",
    "- Load the companies and rounds data  into two data frames and name them companies and rounds2 respectively\n",
    "\n"
   ]
  },
  {
   "cell_type": "code",
   "execution_count": 4,
   "metadata": {},
   "outputs": [],
   "source": [
    "#import numpy and pandas library\n",
    "import pandas as pd\n",
    "import numpy as np\n",
    "import chardet"
   ]
  },
  {
   "cell_type": "code",
   "execution_count": 5,
   "metadata": {},
   "outputs": [
    {
     "name": "stdout",
     "output_type": "stream",
     "text": [
      "(66368, 10)\n",
      "(114949, 6)\n"
     ]
    }
   ],
   "source": [
    "#Refer  https://docs.python.org/2.4/lib/standard-encodings.html encoding \n",
    "#Read csv and apply encoding palmos\n",
    "\n",
    "\n",
    "companies = pd.read_csv(\"companies.csv\",encoding = \"palmos\")\n",
    "rounds2 = pd.read_csv(\"rounds2.csv\",encoding = \"palmos\")\n",
    "#Below dataframe will be used in checkpoint 4 sector analysis\n",
    "sector_mapping = pd.read_csv('mapping.csv',encoding='palmos')\n",
    "\n",
    "print(companies.shape)\n",
    "print(rounds2.shape)\n",
    "#print(companies.head(10))\n",
    "#print(rounds2.head(10))\n"
   ]
  },
  {
   "cell_type": "markdown",
   "metadata": {},
   "source": [
    "### 1. How many unique companies are present in rounds2?\n",
    "-  Convert 'company_permalink' column to lower case and apply nunique function\n",
    "- nunique function - Return Series with number of distinct observation\n",
    "- Below observation shows that, there are 66368 unique companies present in rounds2"
   ]
  },
  {
   "cell_type": "code",
   "execution_count": 6,
   "metadata": {},
   "outputs": [
    {
     "data": {
      "text/plain": [
       "66368"
      ]
     },
     "execution_count": 6,
     "metadata": {},
     "output_type": "execute_result"
    }
   ],
   "source": [
    "rounds2.company_permalink.str.lower().nunique(dropna=True)"
   ]
  },
  {
   "cell_type": "markdown",
   "metadata": {},
   "source": [
    "### 2. How many unique companies are present in companies?\n",
    "- Convert 'permalink' column to lower case and apply nunique function\n",
    "- Below observation shows that there are 66368 unique companies present in companies"
   ]
  },
  {
   "cell_type": "code",
   "execution_count": 7,
   "metadata": {},
   "outputs": [
    {
     "data": {
      "text/plain": [
       "66368"
      ]
     },
     "execution_count": 7,
     "metadata": {},
     "output_type": "execute_result"
    }
   ],
   "source": [
    "companies.permalink.str.lower().nunique(dropna=True)"
   ]
  },
  {
   "cell_type": "markdown",
   "metadata": {},
   "source": [
    "### 3. In the companies data frame, which column can be used as the unique key for each company? Write the name of the column.\n",
    "- Applying is_unique on companies dataframe  to check if column is unique key\n",
    "- True is uniue key and False is not a unique key\n",
    "- Below execution shows that Only 'permalink' column is unique column in companies dataframe"
   ]
  },
  {
   "cell_type": "code",
   "execution_count": 9,
   "metadata": {},
   "outputs": [
    {
     "name": "stdout",
     "output_type": "stream",
     "text": [
      "permalink True\n",
      "-- If above function returns true which means it's unique col in companies dataframe --\n"
     ]
    }
   ],
   "source": [
    "print(\"permalink\",companies.permalink.is_unique)\n",
    "print(\"-- If above function returns true which means it's unique col in companies dataframe --\")"
   ]
  },
  {
   "cell_type": "markdown",
   "metadata": {},
   "source": [
    "### 4. Are there any companies in the rounds2 file which are not present in companies?\n",
    "- Apply \"isin\" function to check if any companies in the rounds2 file which are present in companies. Use ~ functionality to return companies in rounds2 which are not present in companies dataframe.\n",
    "- Below execution retrun that there are no companies in rounds2 which are not present in companies DF"
   ]
  },
  {
   "cell_type": "code",
   "execution_count": 10,
   "metadata": {},
   "outputs": [
    {
     "data": {
      "text/html": [
       "<div>\n",
       "<style scoped>\n",
       "    .dataframe tbody tr th:only-of-type {\n",
       "        vertical-align: middle;\n",
       "    }\n",
       "\n",
       "    .dataframe tbody tr th {\n",
       "        vertical-align: top;\n",
       "    }\n",
       "\n",
       "    .dataframe thead th {\n",
       "        text-align: right;\n",
       "    }\n",
       "</style>\n",
       "<table border=\"1\" class=\"dataframe\">\n",
       "  <thead>\n",
       "    <tr style=\"text-align: right;\">\n",
       "      <th></th>\n",
       "      <th>company_permalink</th>\n",
       "      <th>funding_round_permalink</th>\n",
       "      <th>funding_round_type</th>\n",
       "      <th>funding_round_code</th>\n",
       "      <th>funded_at</th>\n",
       "      <th>raised_amount_usd</th>\n",
       "    </tr>\n",
       "  </thead>\n",
       "  <tbody>\n",
       "  </tbody>\n",
       "</table>\n",
       "</div>"
      ],
      "text/plain": [
       "Empty DataFrame\n",
       "Columns: [company_permalink, funding_round_permalink, funding_round_type, funding_round_code, funded_at, raised_amount_usd]\n",
       "Index: []"
      ]
     },
     "execution_count": 10,
     "metadata": {},
     "output_type": "execute_result"
    }
   ],
   "source": [
    "rounds2[~rounds2.company_permalink.str.lower().isin(companies.permalink.str.lower())]"
   ]
  },
  {
   "cell_type": "markdown",
   "metadata": {},
   "source": [
    "### 5. Merge the two data frames so that all variables (columns) in the companies frame are added to the rounds2 data frame. Name the merged frame master_frame. How many observations are present in master_frame?\n",
    "- convert 'company_permalink' column of rounds2 to lowercase and  'permalink' column of companies  to lowercase \n",
    "- Apply merge function to merge both dataframe.\n",
    "- inner ,left_on=company_permalink, right_on=permalink\n",
    "- Return the observation after merge"
   ]
  },
  {
   "cell_type": "code",
   "execution_count": 11,
   "metadata": {},
   "outputs": [],
   "source": [
    "rounds2['company_permalink'] = rounds2['company_permalink'].str.lower()\n",
    "\n",
    "companies['permalink'] = companies['permalink'].str.lower()"
   ]
  },
  {
   "cell_type": "code",
   "execution_count": 12,
   "metadata": {},
   "outputs": [
    {
     "data": {
      "text/plain": [
       "(114949, 16)"
      ]
     },
     "execution_count": 12,
     "metadata": {},
     "output_type": "execute_result"
    }
   ],
   "source": [
    "master_frame = pd.merge(rounds2, companies,left_on='company_permalink',right_on='permalink',how='inner')\n",
    "master_frame.shape"
   ]
  },
  {
   "cell_type": "markdown",
   "metadata": {},
   "source": [
    "#### Remove duplicate column\n",
    "- After mergeing both the tables we have two dulicate columns - company_permalink and permalink.\n",
    "- we can delete permalink from master_frame table"
   ]
  },
  {
   "cell_type": "code",
   "execution_count": 13,
   "metadata": {},
   "outputs": [],
   "source": [
    "master_frame = master_frame.drop('permalink',axis=1)"
   ]
  },
  {
   "cell_type": "markdown",
   "metadata": {},
   "source": [
    "#### Treating Missing Values\n",
    "\n",
    "- As we can see from the below execution we have calculated percentage of missing values \n",
    "- Based on our observation we can see that 'funding_round_code' and 'founded_at' has approximately 73 % and 18 % of missing values respectively.\n",
    "\n",
    "> It is impossible to delete or impute rows corresponding to large number of missing values. Instead we can remove columns from the tables\n",
    ">> - Another column 'raised_amount_usd' has around 17 % missing values, deleting the rows can impact the future results.\n",
    ">> - Other column like 'country_code','state_code','region','city','homepage_url','category_list' have 2-10 % missing values dropping Nan rows might impact calculating total of raised_amount_usd which is used for funding_round_type."
   ]
  },
  {
   "cell_type": "code",
   "execution_count": 14,
   "metadata": {},
   "outputs": [
    {
     "data": {
      "text/plain": [
       "company_permalink           0.00\n",
       "funding_round_permalink     0.00\n",
       "funding_round_type          0.00\n",
       "funding_round_code         72.91\n",
       "funded_at                   0.00\n",
       "raised_amount_usd          17.39\n",
       "name                        0.00\n",
       "homepage_url                5.34\n",
       "category_list               2.97\n",
       "status                      0.00\n",
       "country_code                7.55\n",
       "state_code                  9.52\n",
       "region                      8.84\n",
       "city                        8.84\n",
       "founded_at                 17.85\n",
       "dtype: float64"
      ]
     },
     "execution_count": 14,
     "metadata": {},
     "output_type": "execute_result"
    }
   ],
   "source": [
    "round(100*(master_frame.isnull().sum()/len(master_frame.index)), 2)"
   ]
  },
  {
   "cell_type": "code",
   "execution_count": 15,
   "metadata": {},
   "outputs": [],
   "source": [
    "master_frame = master_frame.drop('founded_at',axis=1)\n",
    "master_frame = master_frame.drop('funding_round_code',axis=1)\n"
   ]
  },
  {
   "cell_type": "code",
   "execution_count": 16,
   "metadata": {},
   "outputs": [
    {
     "data": {
      "text/plain": [
       "array(['venture', 'seed', 'undisclosed', 'equity_crowdfunding',\n",
       "       'convertible_note', 'private_equity', 'debt_financing', 'angel',\n",
       "       'grant', 'secondary_market', 'post_ipo_equity', 'post_ipo_debt',\n",
       "       'product_crowdfunding', 'non_equity_assistance'], dtype=object)"
      ]
     },
     "execution_count": 16,
     "metadata": {},
     "output_type": "execute_result"
    }
   ],
   "source": [
    "round(100*(master_frame.isnull().sum()/len(master_frame.index)), 2)\n",
    "master_frame.funding_round_type.unique()"
   ]
  },
  {
   "cell_type": "markdown",
   "metadata": {},
   "source": [
    "### Checkpoint 2 -  Funding Type Analysis\n",
    "- Calculate the most representative value of the investment amount for each of the four funding types (venture, angel, seed, and private equity)\n",
    "- group by funding_round_type and apply mean on raised_amount_usd \n",
    "- create new dataframe - funding_type_dataframe for only above mentioned funding types "
   ]
  },
  {
   "cell_type": "code",
   "execution_count": 17,
   "metadata": {},
   "outputs": [],
   "source": [
    "pd.options.display.float_format = '{:.2f}'.format\n",
    "#funding_type_dataframe is created to calculate the to find  most suitable for Spark Funds\n",
    "funding_type_dataframe = pd.DataFrame(master_frame.loc[(master_frame['funding_round_type'] == 'venture') | \n",
    "                 (master_frame['funding_round_type'] == 'angel') |\n",
    "                 (master_frame['funding_round_type'] == 'seed')|\n",
    "                (master_frame['funding_round_type'] == 'private_equity'),:].groupby('funding_round_type')['raised_amount_usd'].mean().sort_values(ascending=False))\n",
    "                "
   ]
  },
  {
   "cell_type": "markdown",
   "metadata": {},
   "source": [
    "- Considering that Spark Funds wants to invest between 5 to 15 million USD per investment round, which investment type is the most suitable for it? Identify the investment type and, for further analysis, filter the data so it only contains the chosen investment type."
   ]
  },
  {
   "cell_type": "code",
   "execution_count": 19,
   "metadata": {},
   "outputs": [
    {
     "data": {
      "text/html": [
       "<div>\n",
       "<style scoped>\n",
       "    .dataframe tbody tr th:only-of-type {\n",
       "        vertical-align: middle;\n",
       "    }\n",
       "\n",
       "    .dataframe tbody tr th {\n",
       "        vertical-align: top;\n",
       "    }\n",
       "\n",
       "    .dataframe thead th {\n",
       "        text-align: right;\n",
       "    }\n",
       "</style>\n",
       "<table border=\"1\" class=\"dataframe\">\n",
       "  <thead>\n",
       "    <tr style=\"text-align: right;\">\n",
       "      <th></th>\n",
       "      <th>index</th>\n",
       "      <th>funding_round_type</th>\n",
       "      <th>raised_amount_usd</th>\n",
       "    </tr>\n",
       "  </thead>\n",
       "  <tbody>\n",
       "    <tr>\n",
       "      <th>1</th>\n",
       "      <td>1</td>\n",
       "      <td>venture</td>\n",
       "      <td>11748949.13</td>\n",
       "    </tr>\n",
       "  </tbody>\n",
       "</table>\n",
       "</div>"
      ],
      "text/plain": [
       "   index funding_round_type  raised_amount_usd\n",
       "1      1            venture        11748949.13"
      ]
     },
     "execution_count": 19,
     "metadata": {},
     "output_type": "execute_result"
    }
   ],
   "source": [
    "funding_type_dataframe.reset_index(inplace=True)\n",
    "funding_type_dataframe.head()\n",
    "'''\n",
    "As we all now Spark funds  wants to invest between 5 to 15 million USD per round of investment\n",
    "After filtering the data with above invsetment range we will get Venture  as best suitable funding type for Spark funds\n",
    "'''\n",
    "funding_type_dataframe.loc[(funding_type_dataframe['raised_amount_usd'] > 5000000.0) & (funding_type_dataframe['raised_amount_usd'] < 15000000.0)]"
   ]
  },
  {
   "cell_type": "markdown",
   "metadata": {},
   "source": [
    "### Identify the investment type and, for further analysis, filter the data so it only contains the chosen investment type.\n",
    "- Based on above analysis 'venture' is best investment type for Spark fund to invest between 5 to 15 million USD per investment round\n",
    "- filter the data and create new dataframe venture funding type only"
   ]
  },
  {
   "cell_type": "code",
   "execution_count": 20,
   "metadata": {},
   "outputs": [
    {
     "data": {
      "text/plain": [
       "(55494, 13)"
      ]
     },
     "execution_count": 20,
     "metadata": {},
     "output_type": "execute_result"
    }
   ],
   "source": [
    "venture_frame = master_frame.loc[(master_frame['funding_round_type'] == 'venture'),:]\n",
    "venture_frame.shape"
   ]
  },
  {
   "cell_type": "markdown",
   "metadata": {},
   "source": [
    "### Checkpoint 3 - Country Analysis\n",
    ">This is the second goal of analysis — country analysis.\n",
    "\n",
    "- Spark Funds wants to see the top nine countries which have received the highest total funding (across ALL sectors for the chosen investment type)\n",
    "- For the chosen investment type, make a data frame named top9 with the top nine countries\n",
    "\n",
    "\n",
    "> - Identify the top three English-speaking countries in the data frame top9. https://en.wikipedia.org/wiki/List_of_territorial_entities_where_English_is_an_official_language\n",
    "- > USA - English speaking\t\n",
    "- > CHN - Not english speaking\n",
    "- > GBR - English speaking\n",
    "- > IND - English speaking(educational point of view)\n",
    "> - Consider USA,GBR and IND are top three english speaking country\n",
    "> - Result: Based on above wiki page and data from top9 list with highest investment are USA,GBR and IND"
   ]
  },
  {
   "cell_type": "code",
   "execution_count": 21,
   "metadata": {},
   "outputs": [
    {
     "data": {
      "text/html": [
       "<div>\n",
       "<style scoped>\n",
       "    .dataframe tbody tr th:only-of-type {\n",
       "        vertical-align: middle;\n",
       "    }\n",
       "\n",
       "    .dataframe tbody tr th {\n",
       "        vertical-align: top;\n",
       "    }\n",
       "\n",
       "    .dataframe thead th {\n",
       "        text-align: right;\n",
       "    }\n",
       "</style>\n",
       "<table border=\"1\" class=\"dataframe\">\n",
       "  <thead>\n",
       "    <tr style=\"text-align: right;\">\n",
       "      <th></th>\n",
       "      <th>country_code</th>\n",
       "      <th>raised_amount_usd</th>\n",
       "    </tr>\n",
       "  </thead>\n",
       "  <tbody>\n",
       "    <tr>\n",
       "      <th>0</th>\n",
       "      <td>USA</td>\n",
       "      <td>422510842796.00</td>\n",
       "    </tr>\n",
       "    <tr>\n",
       "      <th>1</th>\n",
       "      <td>CHN</td>\n",
       "      <td>39835418773.00</td>\n",
       "    </tr>\n",
       "    <tr>\n",
       "      <th>2</th>\n",
       "      <td>GBR</td>\n",
       "      <td>20245627416.00</td>\n",
       "    </tr>\n",
       "    <tr>\n",
       "      <th>3</th>\n",
       "      <td>IND</td>\n",
       "      <td>14391858718.00</td>\n",
       "    </tr>\n",
       "    <tr>\n",
       "      <th>4</th>\n",
       "      <td>CAN</td>\n",
       "      <td>9583332317.00</td>\n",
       "    </tr>\n",
       "    <tr>\n",
       "      <th>5</th>\n",
       "      <td>FRA</td>\n",
       "      <td>7259536732.00</td>\n",
       "    </tr>\n",
       "    <tr>\n",
       "      <th>6</th>\n",
       "      <td>ISR</td>\n",
       "      <td>6907514579.00</td>\n",
       "    </tr>\n",
       "    <tr>\n",
       "      <th>7</th>\n",
       "      <td>DEU</td>\n",
       "      <td>6346959822.00</td>\n",
       "    </tr>\n",
       "    <tr>\n",
       "      <th>8</th>\n",
       "      <td>JPN</td>\n",
       "      <td>3363676611.00</td>\n",
       "    </tr>\n",
       "  </tbody>\n",
       "</table>\n",
       "</div>"
      ],
      "text/plain": [
       "  country_code  raised_amount_usd\n",
       "0          USA    422510842796.00\n",
       "1          CHN     39835418773.00\n",
       "2          GBR     20245627416.00\n",
       "3          IND     14391858718.00\n",
       "4          CAN      9583332317.00\n",
       "5          FRA      7259536732.00\n",
       "6          ISR      6907514579.00\n",
       "7          DEU      6346959822.00\n",
       "8          JPN      3363676611.00"
      ]
     },
     "execution_count": 21,
     "metadata": {},
     "output_type": "execute_result"
    }
   ],
   "source": [
    "top9 = pd.DataFrame(venture_frame.groupby('country_code')['raised_amount_usd'].sum().sort_values(ascending=False).head(n=9))\n",
    "top9.reset_index(inplace=True)\n",
    "top9.head(n=10)"
   ]
  },
  {
   "cell_type": "markdown",
   "metadata": {},
   "source": [
    "### Checkpoint 4: Sector Analysis 1\n",
    "> This is the third goal of analysis — sector analysis.\n",
    "\n",
    "- Extract the primary sector of each category list from the category_list column.\n",
    "- Use the mapping file 'mapping.csv' to map each primary sector to one of the eight main sectors"
   ]
  },
  {
   "cell_type": "code",
   "execution_count": 25,
   "metadata": {},
   "outputs": [
    {
     "name": "stderr",
     "output_type": "stream",
     "text": [
      "C:\\ProgramData\\Anaconda3\\lib\\site-packages\\pandas\\core\\indexing.py:965: SettingWithCopyWarning: \n",
      "A value is trying to be set on a copy of a slice from a DataFrame.\n",
      "Try using .loc[row_indexer,col_indexer] = value instead\n",
      "\n",
      "See the caveats in the documentation: https://pandas.pydata.org/pandas-docs/stable/user_guide/indexing.html#returning-a-view-versus-a-copy\n",
      "  self.obj[item] = s\n"
     ]
    },
    {
     "data": {
      "text/html": [
       "<div>\n",
       "<style scoped>\n",
       "    .dataframe tbody tr th:only-of-type {\n",
       "        vertical-align: middle;\n",
       "    }\n",
       "\n",
       "    .dataframe tbody tr th {\n",
       "        vertical-align: top;\n",
       "    }\n",
       "\n",
       "    .dataframe thead th {\n",
       "        text-align: right;\n",
       "    }\n",
       "</style>\n",
       "<table border=\"1\" class=\"dataframe\">\n",
       "  <thead>\n",
       "    <tr style=\"text-align: right;\">\n",
       "      <th></th>\n",
       "      <th>company_permalink</th>\n",
       "      <th>funding_round_permalink</th>\n",
       "      <th>funding_round_type</th>\n",
       "      <th>funded_at</th>\n",
       "      <th>raised_amount_usd</th>\n",
       "      <th>name</th>\n",
       "      <th>homepage_url</th>\n",
       "      <th>category_list</th>\n",
       "      <th>status</th>\n",
       "      <th>country_code</th>\n",
       "      <th>state_code</th>\n",
       "      <th>region</th>\n",
       "      <th>city</th>\n",
       "      <th>primary_sector</th>\n",
       "    </tr>\n",
       "  </thead>\n",
       "  <tbody>\n",
       "    <tr>\n",
       "      <th>0</th>\n",
       "      <td>/organization/-fame</td>\n",
       "      <td>/funding-round/9a01d05418af9f794eebff7ace91f638</td>\n",
       "      <td>venture</td>\n",
       "      <td>05-01-2015</td>\n",
       "      <td>10000000.00</td>\n",
       "      <td>#fame</td>\n",
       "      <td>http://livfame.com</td>\n",
       "      <td>Media</td>\n",
       "      <td>operating</td>\n",
       "      <td>IND</td>\n",
       "      <td>16</td>\n",
       "      <td>Mumbai</td>\n",
       "      <td>Mumbai</td>\n",
       "      <td>MEDIA</td>\n",
       "    </tr>\n",
       "    <tr>\n",
       "      <th>1</th>\n",
       "      <td>/organization/-qounter</td>\n",
       "      <td>/funding-round/22dacff496eb7acb2b901dec1dfe5633</td>\n",
       "      <td>venture</td>\n",
       "      <td>14-10-2014</td>\n",
       "      <td>nan</td>\n",
       "      <td>:Qounter</td>\n",
       "      <td>http://www.qounter.com</td>\n",
       "      <td>Application Platforms|Real Time|Social Network...</td>\n",
       "      <td>operating</td>\n",
       "      <td>USA</td>\n",
       "      <td>DE</td>\n",
       "      <td>DE - Other</td>\n",
       "      <td>Delaware City</td>\n",
       "      <td>APPLICATION PLATFORMS</td>\n",
       "    </tr>\n",
       "    <tr>\n",
       "      <th>3</th>\n",
       "      <td>/organization/-the-one-of-them-inc-</td>\n",
       "      <td>/funding-round/650b8f704416801069bb178a1418776b</td>\n",
       "      <td>venture</td>\n",
       "      <td>30-01-2014</td>\n",
       "      <td>3406878.00</td>\n",
       "      <td>(THE) ONE of THEM,Inc.</td>\n",
       "      <td>http://oneofthem.jp</td>\n",
       "      <td>Apps|Games|Mobile</td>\n",
       "      <td>operating</td>\n",
       "      <td>NaN</td>\n",
       "      <td>NaN</td>\n",
       "      <td>NaN</td>\n",
       "      <td>NaN</td>\n",
       "      <td>APPS</td>\n",
       "    </tr>\n",
       "    <tr>\n",
       "      <th>4</th>\n",
       "      <td>/organization/0-6-com</td>\n",
       "      <td>/funding-round/5727accaeaa57461bd22a9bdd945382d</td>\n",
       "      <td>venture</td>\n",
       "      <td>19-03-2008</td>\n",
       "      <td>2000000.00</td>\n",
       "      <td>0-6.com</td>\n",
       "      <td>http://www.0-6.com</td>\n",
       "      <td>Curated Web</td>\n",
       "      <td>operating</td>\n",
       "      <td>CHN</td>\n",
       "      <td>22</td>\n",
       "      <td>Beijing</td>\n",
       "      <td>Beijing</td>\n",
       "      <td>CURATED WEB</td>\n",
       "    </tr>\n",
       "    <tr>\n",
       "      <th>5</th>\n",
       "      <td>/organization/004-technologies</td>\n",
       "      <td>/funding-round/1278dd4e6a37fa4b7d7e06c21b3c1830</td>\n",
       "      <td>venture</td>\n",
       "      <td>24-07-2014</td>\n",
       "      <td>nan</td>\n",
       "      <td>004 Technologies</td>\n",
       "      <td>http://004gmbh.de/en/004-interact</td>\n",
       "      <td>Software</td>\n",
       "      <td>operating</td>\n",
       "      <td>USA</td>\n",
       "      <td>IL</td>\n",
       "      <td>Springfield, Illinois</td>\n",
       "      <td>Champaign</td>\n",
       "      <td>SOFTWARE</td>\n",
       "    </tr>\n",
       "  </tbody>\n",
       "</table>\n",
       "</div>"
      ],
      "text/plain": [
       "                     company_permalink  \\\n",
       "0                  /organization/-fame   \n",
       "1               /organization/-qounter   \n",
       "3  /organization/-the-one-of-them-inc-   \n",
       "4                /organization/0-6-com   \n",
       "5       /organization/004-technologies   \n",
       "\n",
       "                           funding_round_permalink funding_round_type  \\\n",
       "0  /funding-round/9a01d05418af9f794eebff7ace91f638            venture   \n",
       "1  /funding-round/22dacff496eb7acb2b901dec1dfe5633            venture   \n",
       "3  /funding-round/650b8f704416801069bb178a1418776b            venture   \n",
       "4  /funding-round/5727accaeaa57461bd22a9bdd945382d            venture   \n",
       "5  /funding-round/1278dd4e6a37fa4b7d7e06c21b3c1830            venture   \n",
       "\n",
       "    funded_at  raised_amount_usd                    name  \\\n",
       "0  05-01-2015        10000000.00                   #fame   \n",
       "1  14-10-2014                nan                :Qounter   \n",
       "3  30-01-2014         3406878.00  (THE) ONE of THEM,Inc.   \n",
       "4  19-03-2008         2000000.00                 0-6.com   \n",
       "5  24-07-2014                nan        004 Technologies   \n",
       "\n",
       "                        homepage_url  \\\n",
       "0                 http://livfame.com   \n",
       "1             http://www.qounter.com   \n",
       "3                http://oneofthem.jp   \n",
       "4                 http://www.0-6.com   \n",
       "5  http://004gmbh.de/en/004-interact   \n",
       "\n",
       "                                       category_list     status country_code  \\\n",
       "0                                              Media  operating          IND   \n",
       "1  Application Platforms|Real Time|Social Network...  operating          USA   \n",
       "3                                  Apps|Games|Mobile  operating          NaN   \n",
       "4                                        Curated Web  operating          CHN   \n",
       "5                                           Software  operating          USA   \n",
       "\n",
       "  state_code                 region           city         primary_sector  \n",
       "0         16                 Mumbai         Mumbai                  MEDIA  \n",
       "1         DE             DE - Other  Delaware City  APPLICATION PLATFORMS  \n",
       "3        NaN                    NaN            NaN                   APPS  \n",
       "4         22                Beijing        Beijing            CURATED WEB  \n",
       "5         IL  Springfield, Illinois      Champaign               SOFTWARE  "
      ]
     },
     "execution_count": 25,
     "metadata": {},
     "output_type": "execute_result"
    }
   ],
   "source": [
    "venture_frame.loc[:,'primary_sector'] = venture_frame.category_list.str.split('|').str[0].copy()\n",
    "\n",
    "venture_frame.loc[:,'primary_sector'] = venture_frame.primary_sector.str.upper().copy()\n",
    "venture_frame.head()"
   ]
  },
  {
   "cell_type": "code",
   "execution_count": 26,
   "metadata": {},
   "outputs": [],
   "source": [
    "sector_mapping = pd.read_csv('mapping.csv',encoding='palmos')"
   ]
  },
  {
   "cell_type": "code",
   "execution_count": 27,
   "metadata": {},
   "outputs": [],
   "source": [
    "sector_mapping.replace({'category_list':'0'},{'category_list':'na'},regex=True,inplace=True)"
   ]
  },
  {
   "cell_type": "code",
   "execution_count": 28,
   "metadata": {},
   "outputs": [],
   "source": [
    "sector_mapping = sector_mapping.melt(id_vars=\"category_list\",var_name=\"main_sector\")"
   ]
  },
  {
   "cell_type": "code",
   "execution_count": 29,
   "metadata": {},
   "outputs": [],
   "source": [
    "sector_mapping = sector_mapping.loc[~(sector_mapping.value == 0)]"
   ]
  },
  {
   "cell_type": "code",
   "execution_count": 30,
   "metadata": {},
   "outputs": [],
   "source": [
    "sector_mapping = sector_mapping.loc[~(sector_mapping.main_sector == 'Blanks')]"
   ]
  },
  {
   "cell_type": "code",
   "execution_count": 31,
   "metadata": {},
   "outputs": [],
   "source": [
    "sector_mapping.category_list = sector_mapping.category_list.str.upper()"
   ]
  },
  {
   "cell_type": "code",
   "execution_count": 32,
   "metadata": {},
   "outputs": [
    {
     "data": {
      "text/html": [
       "<div>\n",
       "<style scoped>\n",
       "    .dataframe tbody tr th:only-of-type {\n",
       "        vertical-align: middle;\n",
       "    }\n",
       "\n",
       "    .dataframe tbody tr th {\n",
       "        vertical-align: top;\n",
       "    }\n",
       "\n",
       "    .dataframe thead th {\n",
       "        text-align: right;\n",
       "    }\n",
       "</style>\n",
       "<table border=\"1\" class=\"dataframe\">\n",
       "  <thead>\n",
       "    <tr style=\"text-align: right;\">\n",
       "      <th></th>\n",
       "      <th>category_list</th>\n",
       "      <th>main_sector</th>\n",
       "    </tr>\n",
       "  </thead>\n",
       "  <tbody>\n",
       "    <tr>\n",
       "      <th>8</th>\n",
       "      <td>ADVENTURE TRAVEL</td>\n",
       "      <td>Automotive &amp; Sports</td>\n",
       "    </tr>\n",
       "    <tr>\n",
       "      <th>14</th>\n",
       "      <td>AEROSPACE</td>\n",
       "      <td>Automotive &amp; Sports</td>\n",
       "    </tr>\n",
       "    <tr>\n",
       "      <th>45</th>\n",
       "      <td>AUTO</td>\n",
       "      <td>Automotive &amp; Sports</td>\n",
       "    </tr>\n",
       "    <tr>\n",
       "      <th>46</th>\n",
       "      <td>AUTOMATED KIOSK</td>\n",
       "      <td>Automotive &amp; Sports</td>\n",
       "    </tr>\n",
       "    <tr>\n",
       "      <th>47</th>\n",
       "      <td>AUTOMOTIVE</td>\n",
       "      <td>Automotive &amp; Sports</td>\n",
       "    </tr>\n",
       "    <tr>\n",
       "      <th>...</th>\n",
       "      <td>...</td>\n",
       "      <td>...</td>\n",
       "    </tr>\n",
       "    <tr>\n",
       "      <th>6121</th>\n",
       "      <td>SOCIAL RECRUITING</td>\n",
       "      <td>Social, Finance, Analytics, Advertising</td>\n",
       "    </tr>\n",
       "    <tr>\n",
       "      <th>6122</th>\n",
       "      <td>SOCIAL TELEVISION</td>\n",
       "      <td>Social, Finance, Analytics, Advertising</td>\n",
       "    </tr>\n",
       "    <tr>\n",
       "      <th>6123</th>\n",
       "      <td>SOCIAL TRAVEL</td>\n",
       "      <td>Social, Finance, Analytics, Advertising</td>\n",
       "    </tr>\n",
       "    <tr>\n",
       "      <th>6134</th>\n",
       "      <td>STOCK EXCHANGES</td>\n",
       "      <td>Social, Finance, Analytics, Advertising</td>\n",
       "    </tr>\n",
       "    <tr>\n",
       "      <th>6167</th>\n",
       "      <td>VENTURE CAPITAL</td>\n",
       "      <td>Social, Finance, Analytics, Advertising</td>\n",
       "    </tr>\n",
       "  </tbody>\n",
       "</table>\n",
       "<p>687 rows × 2 columns</p>\n",
       "</div>"
      ],
      "text/plain": [
       "          category_list                              main_sector\n",
       "8      ADVENTURE TRAVEL                      Automotive & Sports\n",
       "14            AEROSPACE                      Automotive & Sports\n",
       "45                 AUTO                      Automotive & Sports\n",
       "46      AUTOMATED KIOSK                      Automotive & Sports\n",
       "47           AUTOMOTIVE                      Automotive & Sports\n",
       "...                 ...                                      ...\n",
       "6121  SOCIAL RECRUITING  Social, Finance, Analytics, Advertising\n",
       "6122  SOCIAL TELEVISION  Social, Finance, Analytics, Advertising\n",
       "6123      SOCIAL TRAVEL  Social, Finance, Analytics, Advertising\n",
       "6134    STOCK EXCHANGES  Social, Finance, Analytics, Advertising\n",
       "6167    VENTURE CAPITAL  Social, Finance, Analytics, Advertising\n",
       "\n",
       "[687 rows x 2 columns]"
      ]
     },
     "execution_count": 32,
     "metadata": {},
     "output_type": "execute_result"
    }
   ],
   "source": [
    "sector_mapping.drop(columns='value')"
   ]
  },
  {
   "cell_type": "code",
   "execution_count": 33,
   "metadata": {},
   "outputs": [],
   "source": [
    "venture_sector_df = pd.merge(venture_frame,sector_mapping,how = 'inner',left_on='primary_sector',right_on='category_list')"
   ]
  },
  {
   "cell_type": "code",
   "execution_count": 34,
   "metadata": {},
   "outputs": [
    {
     "data": {
      "text/html": [
       "<div>\n",
       "<style scoped>\n",
       "    .dataframe tbody tr th:only-of-type {\n",
       "        vertical-align: middle;\n",
       "    }\n",
       "\n",
       "    .dataframe tbody tr th {\n",
       "        vertical-align: top;\n",
       "    }\n",
       "\n",
       "    .dataframe thead th {\n",
       "        text-align: right;\n",
       "    }\n",
       "</style>\n",
       "<table border=\"1\" class=\"dataframe\">\n",
       "  <thead>\n",
       "    <tr style=\"text-align: right;\">\n",
       "      <th></th>\n",
       "      <th>company_permalink</th>\n",
       "      <th>funding_round_permalink</th>\n",
       "      <th>funding_round_type</th>\n",
       "      <th>funded_at</th>\n",
       "      <th>raised_amount_usd</th>\n",
       "      <th>name</th>\n",
       "      <th>homepage_url</th>\n",
       "      <th>category_list_x</th>\n",
       "      <th>status</th>\n",
       "      <th>country_code</th>\n",
       "      <th>state_code</th>\n",
       "      <th>region</th>\n",
       "      <th>city</th>\n",
       "      <th>primary_sector</th>\n",
       "      <th>main_sector</th>\n",
       "    </tr>\n",
       "  </thead>\n",
       "  <tbody>\n",
       "    <tr>\n",
       "      <th>0</th>\n",
       "      <td>/organization/-fame</td>\n",
       "      <td>/funding-round/9a01d05418af9f794eebff7ace91f638</td>\n",
       "      <td>venture</td>\n",
       "      <td>05-01-2015</td>\n",
       "      <td>10000000.00</td>\n",
       "      <td>#fame</td>\n",
       "      <td>http://livfame.com</td>\n",
       "      <td>Media</td>\n",
       "      <td>operating</td>\n",
       "      <td>IND</td>\n",
       "      <td>16</td>\n",
       "      <td>Mumbai</td>\n",
       "      <td>Mumbai</td>\n",
       "      <td>MEDIA</td>\n",
       "      <td>Entertainment</td>\n",
       "    </tr>\n",
       "    <tr>\n",
       "      <th>1</th>\n",
       "      <td>/organization/90min</td>\n",
       "      <td>/funding-round/21a2cbf6f2fb2a1c2a61e04bf930dfe6</td>\n",
       "      <td>venture</td>\n",
       "      <td>06-10-2015</td>\n",
       "      <td>15000000.00</td>\n",
       "      <td>90min</td>\n",
       "      <td>http://www.90min.com</td>\n",
       "      <td>Media|News|Publishing|Soccer|Sports</td>\n",
       "      <td>operating</td>\n",
       "      <td>GBR</td>\n",
       "      <td>H9</td>\n",
       "      <td>London</td>\n",
       "      <td>London</td>\n",
       "      <td>MEDIA</td>\n",
       "      <td>Entertainment</td>\n",
       "    </tr>\n",
       "    <tr>\n",
       "      <th>2</th>\n",
       "      <td>/organization/90min</td>\n",
       "      <td>/funding-round/bd626ed022f5c66574b1afe234f3c90d</td>\n",
       "      <td>venture</td>\n",
       "      <td>07-05-2013</td>\n",
       "      <td>5800000.00</td>\n",
       "      <td>90min</td>\n",
       "      <td>http://www.90min.com</td>\n",
       "      <td>Media|News|Publishing|Soccer|Sports</td>\n",
       "      <td>operating</td>\n",
       "      <td>GBR</td>\n",
       "      <td>H9</td>\n",
       "      <td>London</td>\n",
       "      <td>London</td>\n",
       "      <td>MEDIA</td>\n",
       "      <td>Entertainment</td>\n",
       "    </tr>\n",
       "    <tr>\n",
       "      <th>3</th>\n",
       "      <td>/organization/90min</td>\n",
       "      <td>/funding-round/fd4b15e8c97ee2ffc0acccdbe1a98810</td>\n",
       "      <td>venture</td>\n",
       "      <td>26-03-2014</td>\n",
       "      <td>18000000.00</td>\n",
       "      <td>90min</td>\n",
       "      <td>http://www.90min.com</td>\n",
       "      <td>Media|News|Publishing|Soccer|Sports</td>\n",
       "      <td>operating</td>\n",
       "      <td>GBR</td>\n",
       "      <td>H9</td>\n",
       "      <td>London</td>\n",
       "      <td>London</td>\n",
       "      <td>MEDIA</td>\n",
       "      <td>Entertainment</td>\n",
       "    </tr>\n",
       "    <tr>\n",
       "      <th>4</th>\n",
       "      <td>/organization/all-def-digital</td>\n",
       "      <td>/funding-round/452a2342fe720285c3b92e9bd927d9ba</td>\n",
       "      <td>venture</td>\n",
       "      <td>06-08-2014</td>\n",
       "      <td>5000000.00</td>\n",
       "      <td>All Def Digital</td>\n",
       "      <td>http://alldefdigital.com</td>\n",
       "      <td>Media</td>\n",
       "      <td>operating</td>\n",
       "      <td>USA</td>\n",
       "      <td>CA</td>\n",
       "      <td>Los Angeles</td>\n",
       "      <td>Los Angeles</td>\n",
       "      <td>MEDIA</td>\n",
       "      <td>Entertainment</td>\n",
       "    </tr>\n",
       "    <tr>\n",
       "      <th>5</th>\n",
       "      <td>/organization/audiosocket</td>\n",
       "      <td>/funding-round/0959f59e3a89bc8db8c6ed9c646349fd</td>\n",
       "      <td>venture</td>\n",
       "      <td>02-05-2013</td>\n",
       "      <td>650000.00</td>\n",
       "      <td>Audiosocket</td>\n",
       "      <td>http://audiosocket.com</td>\n",
       "      <td>Media|Music|Technology</td>\n",
       "      <td>operating</td>\n",
       "      <td>USA</td>\n",
       "      <td>WA</td>\n",
       "      <td>Seattle</td>\n",
       "      <td>Seattle</td>\n",
       "      <td>MEDIA</td>\n",
       "      <td>Entertainment</td>\n",
       "    </tr>\n",
       "    <tr>\n",
       "      <th>6</th>\n",
       "      <td>/organization/audiosocket</td>\n",
       "      <td>/funding-round/4e3a53eec6c609943df752206070b23f</td>\n",
       "      <td>venture</td>\n",
       "      <td>02-09-2009</td>\n",
       "      <td>750000.00</td>\n",
       "      <td>Audiosocket</td>\n",
       "      <td>http://audiosocket.com</td>\n",
       "      <td>Media|Music|Technology</td>\n",
       "      <td>operating</td>\n",
       "      <td>USA</td>\n",
       "      <td>WA</td>\n",
       "      <td>Seattle</td>\n",
       "      <td>Seattle</td>\n",
       "      <td>MEDIA</td>\n",
       "      <td>Entertainment</td>\n",
       "    </tr>\n",
       "    <tr>\n",
       "      <th>7</th>\n",
       "      <td>/organization/audiosocket</td>\n",
       "      <td>/funding-round/bc0b412cf2fa7b739e4105ad756b47a4</td>\n",
       "      <td>venture</td>\n",
       "      <td>15-02-2012</td>\n",
       "      <td>1582300.00</td>\n",
       "      <td>Audiosocket</td>\n",
       "      <td>http://audiosocket.com</td>\n",
       "      <td>Media|Music|Technology</td>\n",
       "      <td>operating</td>\n",
       "      <td>USA</td>\n",
       "      <td>WA</td>\n",
       "      <td>Seattle</td>\n",
       "      <td>Seattle</td>\n",
       "      <td>MEDIA</td>\n",
       "      <td>Entertainment</td>\n",
       "    </tr>\n",
       "    <tr>\n",
       "      <th>8</th>\n",
       "      <td>/organization/babble</td>\n",
       "      <td>/funding-round/43cc678b39be3e684bb88501af05ff9b</td>\n",
       "      <td>venture</td>\n",
       "      <td>05-02-2009</td>\n",
       "      <td>2000000.00</td>\n",
       "      <td>Babble</td>\n",
       "      <td>http://www.babble.com</td>\n",
       "      <td>Media|News|Parenting</td>\n",
       "      <td>acquired</td>\n",
       "      <td>USA</td>\n",
       "      <td>NY</td>\n",
       "      <td>New York City</td>\n",
       "      <td>New York</td>\n",
       "      <td>MEDIA</td>\n",
       "      <td>Entertainment</td>\n",
       "    </tr>\n",
       "    <tr>\n",
       "      <th>9</th>\n",
       "      <td>/organization/babble</td>\n",
       "      <td>/funding-round/5fdb3dbeeb6eea0243702adc372130f3</td>\n",
       "      <td>venture</td>\n",
       "      <td>12-05-2009</td>\n",
       "      <td>1250000.00</td>\n",
       "      <td>Babble</td>\n",
       "      <td>http://www.babble.com</td>\n",
       "      <td>Media|News|Parenting</td>\n",
       "      <td>acquired</td>\n",
       "      <td>USA</td>\n",
       "      <td>NY</td>\n",
       "      <td>New York City</td>\n",
       "      <td>New York</td>\n",
       "      <td>MEDIA</td>\n",
       "      <td>Entertainment</td>\n",
       "    </tr>\n",
       "  </tbody>\n",
       "</table>\n",
       "</div>"
      ],
      "text/plain": [
       "               company_permalink  \\\n",
       "0            /organization/-fame   \n",
       "1            /organization/90min   \n",
       "2            /organization/90min   \n",
       "3            /organization/90min   \n",
       "4  /organization/all-def-digital   \n",
       "5      /organization/audiosocket   \n",
       "6      /organization/audiosocket   \n",
       "7      /organization/audiosocket   \n",
       "8           /organization/babble   \n",
       "9           /organization/babble   \n",
       "\n",
       "                           funding_round_permalink funding_round_type  \\\n",
       "0  /funding-round/9a01d05418af9f794eebff7ace91f638            venture   \n",
       "1  /funding-round/21a2cbf6f2fb2a1c2a61e04bf930dfe6            venture   \n",
       "2  /funding-round/bd626ed022f5c66574b1afe234f3c90d            venture   \n",
       "3  /funding-round/fd4b15e8c97ee2ffc0acccdbe1a98810            venture   \n",
       "4  /funding-round/452a2342fe720285c3b92e9bd927d9ba            venture   \n",
       "5  /funding-round/0959f59e3a89bc8db8c6ed9c646349fd            venture   \n",
       "6  /funding-round/4e3a53eec6c609943df752206070b23f            venture   \n",
       "7  /funding-round/bc0b412cf2fa7b739e4105ad756b47a4            venture   \n",
       "8  /funding-round/43cc678b39be3e684bb88501af05ff9b            venture   \n",
       "9  /funding-round/5fdb3dbeeb6eea0243702adc372130f3            venture   \n",
       "\n",
       "    funded_at  raised_amount_usd             name              homepage_url  \\\n",
       "0  05-01-2015        10000000.00            #fame        http://livfame.com   \n",
       "1  06-10-2015        15000000.00            90min      http://www.90min.com   \n",
       "2  07-05-2013         5800000.00            90min      http://www.90min.com   \n",
       "3  26-03-2014        18000000.00            90min      http://www.90min.com   \n",
       "4  06-08-2014         5000000.00  All Def Digital  http://alldefdigital.com   \n",
       "5  02-05-2013          650000.00      Audiosocket    http://audiosocket.com   \n",
       "6  02-09-2009          750000.00      Audiosocket    http://audiosocket.com   \n",
       "7  15-02-2012         1582300.00      Audiosocket    http://audiosocket.com   \n",
       "8  05-02-2009         2000000.00           Babble     http://www.babble.com   \n",
       "9  12-05-2009         1250000.00           Babble     http://www.babble.com   \n",
       "\n",
       "                       category_list_x     status country_code state_code  \\\n",
       "0                                Media  operating          IND         16   \n",
       "1  Media|News|Publishing|Soccer|Sports  operating          GBR         H9   \n",
       "2  Media|News|Publishing|Soccer|Sports  operating          GBR         H9   \n",
       "3  Media|News|Publishing|Soccer|Sports  operating          GBR         H9   \n",
       "4                                Media  operating          USA         CA   \n",
       "5               Media|Music|Technology  operating          USA         WA   \n",
       "6               Media|Music|Technology  operating          USA         WA   \n",
       "7               Media|Music|Technology  operating          USA         WA   \n",
       "8                 Media|News|Parenting   acquired          USA         NY   \n",
       "9                 Media|News|Parenting   acquired          USA         NY   \n",
       "\n",
       "          region         city primary_sector    main_sector  \n",
       "0         Mumbai       Mumbai          MEDIA  Entertainment  \n",
       "1         London       London          MEDIA  Entertainment  \n",
       "2         London       London          MEDIA  Entertainment  \n",
       "3         London       London          MEDIA  Entertainment  \n",
       "4    Los Angeles  Los Angeles          MEDIA  Entertainment  \n",
       "5        Seattle      Seattle          MEDIA  Entertainment  \n",
       "6        Seattle      Seattle          MEDIA  Entertainment  \n",
       "7        Seattle      Seattle          MEDIA  Entertainment  \n",
       "8  New York City     New York          MEDIA  Entertainment  \n",
       "9  New York City     New York          MEDIA  Entertainment  "
      ]
     },
     "execution_count": 34,
     "metadata": {},
     "output_type": "execute_result"
    }
   ],
   "source": [
    "venture_sector_df.drop(columns=['category_list_y','value'],inplace=True)\n",
    "venture_sector_df.head(10)"
   ]
  },
  {
   "cell_type": "code",
   "execution_count": 35,
   "metadata": {},
   "outputs": [
    {
     "data": {
      "text/plain": [
       "(54341, 15)"
      ]
     },
     "execution_count": 35,
     "metadata": {},
     "output_type": "execute_result"
    }
   ],
   "source": [
    "venture_sector_df.shape"
   ]
  },
  {
   "cell_type": "markdown",
   "metadata": {},
   "source": [
    "### Checkpoint 5: Sector Analysis 2\n",
    "\n",
    "1. Now, the aim is to find out the most heavily invested main sectors in each of the three countries (for funding type FT and investments range of 5-15 M USD)\n",
    "> Create three separate data frames D1, D2 and D3 for each of the three countries containing the observations of funding type FT falling within the 5-15 million USD range. The three data frames should contain all the columns of the master_frame along with the main sector and the primary sector. \n",
    "2. Using the three data frames.\n",
    "> - calculate the total number of investments\n",
    "> - total amount of investments in each main sector for each of the three countries."
   ]
  },
  {
   "cell_type": "code",
   "execution_count": 36,
   "metadata": {},
   "outputs": [],
   "source": [
    "D1 = venture_sector_df.loc[venture_sector_df['country_code'] == 'USA']\n",
    "D2 = venture_sector_df.loc[venture_sector_df['country_code'] == 'GBR']\n",
    "D3 = venture_sector_df.loc[venture_sector_df['country_code'] == 'IND']"
   ]
  },
  {
   "cell_type": "markdown",
   "metadata": {},
   "source": [
    "### Based on the analysis of the sectors, which main sectors and countries would you recommend Spark Funds to invest in\n",
    "- Calculate main sector wise total investment count for top 3 countries\n",
    "> 1. TNI_USA: investment count for USA\n",
    "> 2. TNI_GBR: investment count for GBR\n",
    "> 3. TNI_IND: investment count for IND"
   ]
  },
  {
   "cell_type": "code",
   "execution_count": 37,
   "metadata": {},
   "outputs": [
    {
     "data": {
      "text/html": [
       "<div>\n",
       "<style scoped>\n",
       "    .dataframe tbody tr th:only-of-type {\n",
       "        vertical-align: middle;\n",
       "    }\n",
       "\n",
       "    .dataframe tbody tr th {\n",
       "        vertical-align: top;\n",
       "    }\n",
       "\n",
       "    .dataframe thead th {\n",
       "        text-align: right;\n",
       "    }\n",
       "</style>\n",
       "<table border=\"1\" class=\"dataframe\">\n",
       "  <thead>\n",
       "    <tr style=\"text-align: right;\">\n",
       "      <th></th>\n",
       "      <th>Total_investment_count</th>\n",
       "    </tr>\n",
       "    <tr>\n",
       "      <th>main_sector</th>\n",
       "      <th></th>\n",
       "    </tr>\n",
       "  </thead>\n",
       "  <tbody>\n",
       "    <tr>\n",
       "      <th>Others</th>\n",
       "      <td>8763</td>\n",
       "    </tr>\n",
       "    <tr>\n",
       "      <th>Cleantech / Semiconductors</th>\n",
       "      <td>8268</td>\n",
       "    </tr>\n",
       "    <tr>\n",
       "      <th>Social, Finance, Analytics, Advertising</th>\n",
       "      <td>7822</td>\n",
       "    </tr>\n",
       "    <tr>\n",
       "      <th>News, Search and Messaging</th>\n",
       "      <td>4618</td>\n",
       "    </tr>\n",
       "    <tr>\n",
       "      <th>Health</th>\n",
       "      <td>3413</td>\n",
       "    </tr>\n",
       "  </tbody>\n",
       "</table>\n",
       "</div>"
      ],
      "text/plain": [
       "                                         Total_investment_count\n",
       "main_sector                                                    \n",
       "Others                                                     8763\n",
       "Cleantech / Semiconductors                                 8268\n",
       "Social, Finance, Analytics, Advertising                    7822\n",
       "News, Search and Messaging                                 4618\n",
       "Health                                                     3413"
      ]
     },
     "execution_count": 37,
     "metadata": {},
     "output_type": "execute_result"
    }
   ],
   "source": [
    "TNI_USA = pd.DataFrame(D1.groupby(by='main_sector')['main_sector'].count().rename('Total_investment_count').sort_values(ascending=False))\n",
    "TNI_USA.head()"
   ]
  },
  {
   "cell_type": "code",
   "execution_count": 38,
   "metadata": {},
   "outputs": [
    {
     "data": {
      "text/html": [
       "<div>\n",
       "<style scoped>\n",
       "    .dataframe tbody tr th:only-of-type {\n",
       "        vertical-align: middle;\n",
       "    }\n",
       "\n",
       "    .dataframe tbody tr th {\n",
       "        vertical-align: top;\n",
       "    }\n",
       "\n",
       "    .dataframe thead th {\n",
       "        text-align: right;\n",
       "    }\n",
       "</style>\n",
       "<table border=\"1\" class=\"dataframe\">\n",
       "  <thead>\n",
       "    <tr style=\"text-align: right;\">\n",
       "      <th></th>\n",
       "      <th>Total_investment_count</th>\n",
       "    </tr>\n",
       "    <tr>\n",
       "      <th>main_sector</th>\n",
       "      <th></th>\n",
       "    </tr>\n",
       "  </thead>\n",
       "  <tbody>\n",
       "    <tr>\n",
       "      <th>Others</th>\n",
       "      <td>580</td>\n",
       "    </tr>\n",
       "    <tr>\n",
       "      <th>Social, Finance, Analytics, Advertising</th>\n",
       "      <td>481</td>\n",
       "    </tr>\n",
       "    <tr>\n",
       "      <th>Cleantech / Semiconductors</th>\n",
       "      <td>466</td>\n",
       "    </tr>\n",
       "    <tr>\n",
       "      <th>News, Search and Messaging</th>\n",
       "      <td>265</td>\n",
       "    </tr>\n",
       "    <tr>\n",
       "      <th>Entertainment</th>\n",
       "      <td>160</td>\n",
       "    </tr>\n",
       "  </tbody>\n",
       "</table>\n",
       "</div>"
      ],
      "text/plain": [
       "                                         Total_investment_count\n",
       "main_sector                                                    \n",
       "Others                                                      580\n",
       "Social, Finance, Analytics, Advertising                     481\n",
       "Cleantech / Semiconductors                                  466\n",
       "News, Search and Messaging                                  265\n",
       "Entertainment                                               160"
      ]
     },
     "execution_count": 38,
     "metadata": {},
     "output_type": "execute_result"
    }
   ],
   "source": [
    "TNI_GBR = pd.DataFrame(D2.groupby(by='main_sector')['main_sector'].count().rename('Total_investment_count').sort_values(ascending=False))\n",
    "TNI_GBR.head()"
   ]
  },
  {
   "cell_type": "code",
   "execution_count": 39,
   "metadata": {},
   "outputs": [
    {
     "data": {
      "text/html": [
       "<div>\n",
       "<style scoped>\n",
       "    .dataframe tbody tr th:only-of-type {\n",
       "        vertical-align: middle;\n",
       "    }\n",
       "\n",
       "    .dataframe tbody tr th {\n",
       "        vertical-align: top;\n",
       "    }\n",
       "\n",
       "    .dataframe thead th {\n",
       "        text-align: right;\n",
       "    }\n",
       "</style>\n",
       "<table border=\"1\" class=\"dataframe\">\n",
       "  <thead>\n",
       "    <tr style=\"text-align: right;\">\n",
       "      <th></th>\n",
       "      <th>Total_investment_count</th>\n",
       "    </tr>\n",
       "    <tr>\n",
       "      <th>main_sector</th>\n",
       "      <th></th>\n",
       "    </tr>\n",
       "  </thead>\n",
       "  <tbody>\n",
       "    <tr>\n",
       "      <th>Others</th>\n",
       "      <td>332</td>\n",
       "    </tr>\n",
       "    <tr>\n",
       "      <th>Social, Finance, Analytics, Advertising</th>\n",
       "      <td>193</td>\n",
       "    </tr>\n",
       "    <tr>\n",
       "      <th>News, Search and Messaging</th>\n",
       "      <td>154</td>\n",
       "    </tr>\n",
       "    <tr>\n",
       "      <th>Entertainment</th>\n",
       "      <td>90</td>\n",
       "    </tr>\n",
       "    <tr>\n",
       "      <th>Manufacturing</th>\n",
       "      <td>64</td>\n",
       "    </tr>\n",
       "  </tbody>\n",
       "</table>\n",
       "</div>"
      ],
      "text/plain": [
       "                                         Total_investment_count\n",
       "main_sector                                                    \n",
       "Others                                                      332\n",
       "Social, Finance, Analytics, Advertising                     193\n",
       "News, Search and Messaging                                  154\n",
       "Entertainment                                                90\n",
       "Manufacturing                                                64"
      ]
     },
     "execution_count": 39,
     "metadata": {},
     "output_type": "execute_result"
    }
   ],
   "source": [
    "TNI_IND = pd.DataFrame(D3.groupby(by='main_sector')['main_sector'].count().rename('Total_investment_count').sort_values(ascending=False))\n",
    "TNI_IND.head()"
   ]
  },
  {
   "cell_type": "markdown",
   "metadata": {},
   "source": [
    "### Calculate main sector wise total investment amount\n",
    "> 1. TIA_USA : total investment amount for USA\n",
    "> 1. TIA_GBR : total investment amount for GBR\n",
    "> 1. TIA_IND: total investment amount for IND"
   ]
  },
  {
   "cell_type": "code",
   "execution_count": 40,
   "metadata": {},
   "outputs": [
    {
     "data": {
      "text/plain": [
       "419827724225.0"
      ]
     },
     "execution_count": 40,
     "metadata": {},
     "output_type": "execute_result"
    }
   ],
   "source": [
    "TIA_USA = pd.DataFrame(D1.groupby(by='main_sector')['raised_amount_usd'].sum().rename('Total_investment_amount').sort_values(ascending=False))\n",
    "TIA_USA.Total_investment_amount.sum()\n",
    "#TIA_USA.head(10)\n"
   ]
  },
  {
   "cell_type": "code",
   "execution_count": 41,
   "metadata": {},
   "outputs": [
    {
     "data": {
      "text/plain": [
       "20004243770.0"
      ]
     },
     "execution_count": 41,
     "metadata": {},
     "output_type": "execute_result"
    }
   ],
   "source": [
    "TIA_GBR = pd.DataFrame(D2.groupby(by='main_sector')['raised_amount_usd'].sum().rename('Total_investment_amount').sort_values(ascending=False))\n",
    "TIA_GBR.Total_investment_amount.sum()\n",
    "#TIA_GBR.head(10)"
   ]
  },
  {
   "cell_type": "code",
   "execution_count": 42,
   "metadata": {},
   "outputs": [
    {
     "data": {
      "text/plain": [
       "14261508718.0"
      ]
     },
     "execution_count": 42,
     "metadata": {},
     "output_type": "execute_result"
    }
   ],
   "source": [
    "TIA_IND = pd.DataFrame(D3.groupby(by='main_sector')['raised_amount_usd'].sum().rename('Total_investment_amount').sort_values(ascending=False))\n",
    "TIA_IND.Total_investment_amount.sum()\n",
    "#TIA_IND.head(10)"
   ]
  },
  {
   "cell_type": "markdown",
   "metadata": {},
   "source": [
    "### Merge Total investment amout and Total investment count frames of 3 countries to respective main data frames"
   ]
  },
  {
   "cell_type": "code",
   "execution_count": 43,
   "metadata": {},
   "outputs": [
    {
     "data": {
      "text/plain": [
       "(38020, 17)"
      ]
     },
     "execution_count": 43,
     "metadata": {},
     "output_type": "execute_result"
    }
   ],
   "source": [
    "D1 = pd.merge(pd.merge(D1,TNI_USA,how='inner',left_on='main_sector',right_index=True),TIA_USA,how='inner',left_on='main_sector',right_index=True)\n",
    "D1.shape\n"
   ]
  },
  {
   "cell_type": "code",
   "execution_count": 44,
   "metadata": {},
   "outputs": [
    {
     "data": {
      "text/plain": [
       "(2264, 17)"
      ]
     },
     "execution_count": 44,
     "metadata": {},
     "output_type": "execute_result"
    }
   ],
   "source": [
    "D2 = pd.merge(pd.merge(D2,TNI_GBR,how='inner',left_on='main_sector',right_index=True),TIA_GBR,how='inner',left_on='main_sector',right_index=True)\n",
    "D2.shape"
   ]
  },
  {
   "cell_type": "code",
   "execution_count": 45,
   "metadata": {},
   "outputs": [
    {
     "data": {
      "text/plain": [
       "(984, 17)"
      ]
     },
     "execution_count": 45,
     "metadata": {},
     "output_type": "execute_result"
    }
   ],
   "source": [
    "D3 = pd.merge(pd.merge(D3,TNI_IND,how='inner',left_on='main_sector',right_index=True),TIA_IND,how='inner',left_on='main_sector',right_index=True)\n",
    "D3.shape"
   ]
  },
  {
   "cell_type": "markdown",
   "metadata": {},
   "source": [
    "### For point 3 (top sector count-wise), which company received the highest investment?\n"
   ]
  },
  {
   "cell_type": "code",
   "execution_count": 46,
   "metadata": {},
   "outputs": [
    {
     "data": {
      "text/plain": [
       "company_permalink\n",
       "/organization/terascala                          13\n",
       "/organization/vectormax                          12\n",
       "/organization/lecere                             11\n",
       "/organization/bti-systems                        10\n",
       "/organization/approva                             9\n",
       "                                                 ..\n",
       "/organization/globalcrypto                        0\n",
       "/organization/park-place-international            0\n",
       "/organization/allegro-development-corporation     0\n",
       "/organization/dartdevices                         0\n",
       "/organization/004-technologies                    0\n",
       "Name: raised_amount_usd, Length: 4884, dtype: int64"
      ]
     },
     "execution_count": 46,
     "metadata": {},
     "output_type": "execute_result"
    }
   ],
   "source": [
    "D1.loc[D1['main_sector'] == 'Others'].groupby(by='company_permalink')['raised_amount_usd'].count().sort_values(ascending=False)"
   ]
  },
  {
   "cell_type": "code",
   "execution_count": 48,
   "metadata": {},
   "outputs": [
    {
     "data": {
      "text/plain": [
       "company_permalink\n",
       "/organization/rostima             8\n",
       "/organization/electric-cloud      7\n",
       "/organization/helveta             6\n",
       "/organization/picochip            6\n",
       "/organization/myoptique-group     5\n",
       "                                 ..\n",
       "/organization/casehub             0\n",
       "/organization/wees                0\n",
       "/organization/csl-dualcom         0\n",
       "/organization/exg                 0\n",
       "/organization/girl-meets-dress    0\n",
       "Name: raised_amount_usd, Length: 387, dtype: int64"
      ]
     },
     "execution_count": 48,
     "metadata": {},
     "output_type": "execute_result"
    }
   ],
   "source": [
    "D2.loc[D2['main_sector'] == 'Others'].groupby(by='company_permalink')['raised_amount_usd'].count().sort_values(ascending=False)"
   ]
  },
  {
   "cell_type": "code",
   "execution_count": 49,
   "metadata": {},
   "outputs": [
    {
     "data": {
      "text/plain": [
       "company_permalink\n",
       "/organization/flipkart                        9\n",
       "/organization/myntra                          8\n",
       "/organization/snapdeal                        5\n",
       "/organization/canvera-digital-technologies    5\n",
       "/organization/tutorvista-com                  5\n",
       "                                             ..\n",
       "/organization/the-beer-caf                    0\n",
       "/organization/careers360                      0\n",
       "/organization/karma-recycling                 0\n",
       "/organization/boond                           0\n",
       "/organization/travelkhana-com                 0\n",
       "Name: raised_amount_usd, Length: 221, dtype: int64"
      ]
     },
     "execution_count": 49,
     "metadata": {},
     "output_type": "execute_result"
    }
   ],
   "source": [
    "D3.loc[D3['main_sector'] == 'Others'].groupby(by='company_permalink')['raised_amount_usd'].count().sort_values(ascending=False)"
   ]
  },
  {
   "cell_type": "markdown",
   "metadata": {},
   "source": [
    "### For point 4 (second best sector count-wise), which company received the highest investment?\n"
   ]
  },
  {
   "cell_type": "code",
   "execution_count": 50,
   "metadata": {},
   "outputs": [
    {
     "data": {
      "text/plain": [
       "company_permalink\n",
       "/organization/pro-pharmaceuticals           12\n",
       "/organization/tigo-energy                   12\n",
       "/organization/aviir                         12\n",
       "/organization/covenant-surgical-partners    12\n",
       "/organization/cns-response                  11\n",
       "                                            ..\n",
       "/organization/digital-currency-group         0\n",
       "/organization/catamaran-2                    0\n",
       "/organization/verdant-power                  0\n",
       "/organization/pear-therapeutics              0\n",
       "/organization/biodata                        0\n",
       "Name: raised_amount_usd, Length: 3930, dtype: int64"
      ]
     },
     "execution_count": 50,
     "metadata": {},
     "output_type": "execute_result"
    }
   ],
   "source": [
    "D1.loc[D1['main_sector'] == 'Cleantech / Semiconductors'].groupby(by='company_permalink')['raised_amount_usd'].count().sort_values(ascending=False)"
   ]
  },
  {
   "cell_type": "code",
   "execution_count": 51,
   "metadata": {},
   "outputs": [
    {
     "data": {
      "text/plain": [
       "company_permalink\n",
       "/organization/worldremit               6\n",
       "/organization/similarweb               6\n",
       "/organization/borro                    5\n",
       "/organization/celltick-technologies    5\n",
       "/organization/sportpursuit             5\n",
       "                                      ..\n",
       "/organization/tailgate-technologies    0\n",
       "/organization/taskpipes                0\n",
       "/organization/ascots-of-london         0\n",
       "/organization/mobyko                   0\n",
       "/organization/cognisess                0\n",
       "Name: raised_amount_usd, Length: 313, dtype: int64"
      ]
     },
     "execution_count": 51,
     "metadata": {},
     "output_type": "execute_result"
    }
   ],
   "source": [
    "D2.loc[D2['main_sector'] == 'Social, Finance, Analytics, Advertising'].groupby(by='company_permalink')['raised_amount_usd'].count().sort_values(ascending=False)"
   ]
  },
  {
   "cell_type": "code",
   "execution_count": 52,
   "metadata": {},
   "outputs": [
    {
     "data": {
      "text/plain": [
       "company_permalink\n",
       "/organization/manthan-systems    6\n",
       "/organization/shopclues-com      4\n",
       "/organization/komli-media        4\n",
       "/organization/policybazaar       4\n",
       "/organization/yepme-com          3\n",
       "                                ..\n",
       "/organization/findable-in        0\n",
       "/organization/kae-capital        0\n",
       "/organization/empower-futures    0\n",
       "/organization/simpli5d           0\n",
       "/organization/jombay             0\n",
       "Name: raised_amount_usd, Length: 141, dtype: int64"
      ]
     },
     "execution_count": 52,
     "metadata": {},
     "output_type": "execute_result"
    }
   ],
   "source": [
    "D3.loc[D3['main_sector'] == 'Social, Finance, Analytics, Advertising'].groupby(by='company_permalink')['raised_amount_usd'].count().sort_values(ascending=False)"
   ]
  },
  {
   "cell_type": "code",
   "execution_count": 53,
   "metadata": {},
   "outputs": [],
   "source": [
    "df2 = pd.DataFrame(master_frame.loc[(master_frame['funding_round_type'] == 'venture') | \n",
    "                 (master_frame['funding_round_type'] == 'angel') |\n",
    "                 (master_frame['funding_round_type'] == 'seed')|\n",
    "                (master_frame['funding_round_type'] == 'private_equity'),:].groupby('funding_round_type')['raised_amount_usd'].sum())\n"
   ]
  },
  {
   "cell_type": "code",
   "execution_count": 54,
   "metadata": {},
   "outputs": [
    {
     "data": {
      "text/html": [
       "<div>\n",
       "<style scoped>\n",
       "    .dataframe tbody tr th:only-of-type {\n",
       "        vertical-align: middle;\n",
       "    }\n",
       "\n",
       "    .dataframe tbody tr th {\n",
       "        vertical-align: top;\n",
       "    }\n",
       "\n",
       "    .dataframe thead th {\n",
       "        text-align: right;\n",
       "    }\n",
       "</style>\n",
       "<table border=\"1\" class=\"dataframe\">\n",
       "  <thead>\n",
       "    <tr style=\"text-align: right;\">\n",
       "      <th></th>\n",
       "      <th>raised_amount_usd</th>\n",
       "    </tr>\n",
       "    <tr>\n",
       "      <th>funding_round_type</th>\n",
       "      <th></th>\n",
       "    </tr>\n",
       "  </thead>\n",
       "  <tbody>\n",
       "    <tr>\n",
       "      <th>angel</th>\n",
       "      <td>4659255123.00</td>\n",
       "    </tr>\n",
       "    <tr>\n",
       "      <th>private_equity</th>\n",
       "      <td>141925436105.00</td>\n",
       "    </tr>\n",
       "    <tr>\n",
       "      <th>seed</th>\n",
       "      <td>16989864181.00</td>\n",
       "    </tr>\n",
       "    <tr>\n",
       "      <th>venture</th>\n",
       "      <td>590126216876.00</td>\n",
       "    </tr>\n",
       "  </tbody>\n",
       "</table>\n",
       "</div>"
      ],
      "text/plain": [
       "                    raised_amount_usd\n",
       "funding_round_type                   \n",
       "angel                   4659255123.00\n",
       "private_equity        141925436105.00\n",
       "seed                   16989864181.00\n",
       "venture               590126216876.00"
      ]
     },
     "execution_count": 54,
     "metadata": {},
     "output_type": "execute_result"
    }
   ],
   "source": [
    "df2"
   ]
  },
  {
   "cell_type": "markdown",
   "metadata": {},
   "source": [
    "### Checkpoint 6 - Plots\n",
    "- A plot showing the representative amount of investment in each funding type. This chart should make it clear that a certain funding type (FT) is best suited for Spark Funds.\n",
    "- A plot showing the top 9 countries against the total amount of investments of funding type FT. This should make the top 3 countries (USA , GBR, and IND) very clear. \n",
    "\n",
    "#### Charts makes it clear that 'Venture' funding type is best suited for Spark Funds."
   ]
  },
  {
   "cell_type": "code",
   "execution_count": 55,
   "metadata": {},
   "outputs": [],
   "source": [
    "import matplotlib.pyplot as plt\n",
    "import seaborn as sns"
   ]
  },
  {
   "cell_type": "code",
   "execution_count": 57,
   "metadata": {},
   "outputs": [
    {
     "name": "stderr",
     "output_type": "stream",
     "text": [
      "C:\\ProgramData\\Anaconda3\\lib\\site-packages\\ipykernel_launcher.py:6: MatplotlibDeprecationWarning: Non-1D inputs to pie() are currently squeeze()d, but this behavior is deprecated since 3.1 and will be removed in 3.3; pass a 1D array instead.\n",
      "  \n"
     ]
    },
    {
     "data": {
      "image/png": "[encoded data removed]",
      "text/plain": [
       "<Figure size 720x720 with 1 Axes>"
      ]
     },
     "metadata": {},
     "output_type": "display_data"
    },
    {
     "data": {
      "image/png": "[encoded data removed]",
      "text/plain": [
       "<Figure size 720x720 with 1 Axes>"
      ]
     },
     "metadata": {
      "needs_background": "light"
     },
     "output_type": "display_data"
    }
   ],
   "source": [
    "#subplot 1 - fractions of total investment globally\n",
    "plt.figure(figsize=[10.0,10.0],frameon=True)\n",
    "plt.subplot(2,2,1)\n",
    "labels='angle','venture','seed','private-equity'\n",
    "plt.title('Total Investment (globally)',pad=7)\n",
    "plt.pie(df2,labels=labels,autopct='%1.2f%%',startangle=90)\n",
    "plt.show()\n",
    "\n",
    "# subplot 2  - average amount of investment\n",
    "plt.figure(figsize=[10.0,10.0],frameon=True)\n",
    "plt.subplot(2,2,2)\n",
    "sns.barplot(x=master_frame['funding_round_type'],y=master_frame['raised_amount_usd']/1000000,estimator=np.mean,ci=None,order=['angle','seed','venture','private_equity'])\n",
    "plt.ylabel('Raised amount in ysd(in millions)')\n",
    "plt.title(\"Average amount of investment \")\n",
    "plt.show()"
   ]
  },
  {
   "cell_type": "code",
   "execution_count": 59,
   "metadata": {},
   "outputs": [
    {
     "data": {
      "image/png": "[encoded data removed]",
      "text/plain": [
       "<Figure size 720x360 with 1 Axes>"
      ]
     },
     "metadata": {
      "needs_background": "light"
     },
     "output_type": "display_data"
    }
   ],
   "source": [
    "#Top 3 English speaking country are with highest investment\n",
    "plt.figure(figsize=[10.0,5.0])\n",
    "sns.barplot(x=top9['country_code'],y=top9['raised_amount_usd']/1000000)\n",
    "plt.show()"
   ]
  },
  {
   "cell_type": "code",
   "execution_count": 60,
   "metadata": {},
   "outputs": [
    {
     "data": {
      "text/html": [
       "<div>\n",
       "<style scoped>\n",
       "    .dataframe tbody tr th:only-of-type {\n",
       "        vertical-align: middle;\n",
       "    }\n",
       "\n",
       "    .dataframe tbody tr th {\n",
       "        vertical-align: top;\n",
       "    }\n",
       "\n",
       "    .dataframe thead th {\n",
       "        text-align: right;\n",
       "    }\n",
       "</style>\n",
       "<table border=\"1\" class=\"dataframe\">\n",
       "  <thead>\n",
       "    <tr style=\"text-align: right;\">\n",
       "      <th></th>\n",
       "      <th>Total_investment_count</th>\n",
       "    </tr>\n",
       "    <tr>\n",
       "      <th>main_sector</th>\n",
       "      <th></th>\n",
       "    </tr>\n",
       "  </thead>\n",
       "  <tbody>\n",
       "    <tr>\n",
       "      <th>Others</th>\n",
       "      <td>8763</td>\n",
       "    </tr>\n",
       "    <tr>\n",
       "      <th>Cleantech / Semiconductors</th>\n",
       "      <td>8268</td>\n",
       "    </tr>\n",
       "    <tr>\n",
       "      <th>Social, Finance, Analytics, Advertising</th>\n",
       "      <td>7822</td>\n",
       "    </tr>\n",
       "    <tr>\n",
       "      <th>News, Search and Messaging</th>\n",
       "      <td>4618</td>\n",
       "    </tr>\n",
       "    <tr>\n",
       "      <th>Health</th>\n",
       "      <td>3413</td>\n",
       "    </tr>\n",
       "  </tbody>\n",
       "</table>\n",
       "</div>"
      ],
      "text/plain": [
       "                                         Total_investment_count\n",
       "main_sector                                                    \n",
       "Others                                                     8763\n",
       "Cleantech / Semiconductors                                 8268\n",
       "Social, Finance, Analytics, Advertising                    7822\n",
       "News, Search and Messaging                                 4618\n",
       "Health                                                     3413"
      ]
     },
     "execution_count": 60,
     "metadata": {},
     "output_type": "execute_result"
    }
   ],
   "source": [
    "TNI_USA.head()"
   ]
  },
  {
   "cell_type": "code",
   "execution_count": 61,
   "metadata": {},
   "outputs": [],
   "source": [
    "TNI_USA.reset_index(inplace=True)\n",
    "TNI_GBR.reset_index(inplace=True)\n",
    "TNI_IND.reset_index(inplace=True)"
   ]
  },
  {
   "cell_type": "code",
   "execution_count": 63,
   "metadata": {},
   "outputs": [],
   "source": [
    "TNI_USA = TNI_USA.sort_values(by='Total_investment_count',ascending=False).head(3)\n",
    "TNI_USA['Country'] = 'USA'\n",
    "\n",
    "TNI_GBR = TNI_GBR.sort_values(by='Total_investment_count',ascending=False).head(3)\n",
    "TNI_GBR['Country'] = 'GBR'\n",
    "\n",
    "TNI_IND = TNI_IND.sort_values(by='Total_investment_count',ascending=False).head(3)\n",
    "TNI_IND['Country'] = 'IND'\n"
   ]
  },
  {
   "cell_type": "code",
   "execution_count": 64,
   "metadata": {},
   "outputs": [
    {
     "data": {
      "text/plain": [
       "0    USA\n",
       "1    USA\n",
       "2    USA\n",
       "3    GBR\n",
       "4    GBR\n",
       "5    GBR\n",
       "6    IND\n",
       "7    IND\n",
       "8    IND\n",
       "Name: Country, dtype: object"
      ]
     },
     "execution_count": 64,
     "metadata": {},
     "output_type": "execute_result"
    }
   ],
   "source": [
    "TNI = pd.merge(pd.merge(TNI_USA,TNI_GBR,how='outer'),TNI_IND,how='outer')\n",
    "TNI.Country"
   ]
  },
  {
   "cell_type": "markdown",
   "metadata": {},
   "source": [
    "#### A plot showing the number of investments in the top 3 sectors of the top 3 countries on one chart (for the chosen investment type FT). This plot should clearly display the top 3 sectors each in USA,GBR and IND "
   ]
  },
  {
   "cell_type": "code",
   "execution_count": 65,
   "metadata": {},
   "outputs": [
    {
     "data": {
      "text/plain": [
       "<matplotlib.axes._subplots.AxesSubplot at 0x1f9c7aef048>"
      ]
     },
     "execution_count": 65,
     "metadata": {},
     "output_type": "execute_result"
    },
    {
     "data": {
      "image/png": "[encoded data removed]",
      "text/plain": [
       "<Figure size 720x720 with 1 Axes>"
      ]
     },
     "metadata": {
      "needs_background": "light"
     },
     "output_type": "display_data"
    }
   ],
   "source": [
    "plt.figure(figsize=[10.0,10.0])\n",
    "sns.barplot(data=TNI,x='Country',y='Total_investment_count',hue='main_sector')"
   ]
  },
  {
   "cell_type": "code",
   "execution_count": null,
   "metadata": {},
   "outputs": [],
   "source": []
  }
 ],
 "metadata": {
  "kernelspec": {
   "display_name": "Python 3",
   "language": "python",
   "name": "python3"
  },
  "language_info": {
   "codemirror_mode": {
    "name": "ipython",
    "version": 3
   },
   "file_extension": ".py",
   "mimetype": "text/x-python",
   "name": "python",
   "nbconvert_exporter": "python",
   "pygments_lexer": "ipython3",
   "version": "3.7.6"
  }
 },
 "nbformat": 4,
 "nbformat_minor": 4
}
